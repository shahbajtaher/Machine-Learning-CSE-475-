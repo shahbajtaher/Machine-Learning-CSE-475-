{
  "nbformat": 4,
  "nbformat_minor": 0,
  "metadata": {
    "colab": {
      "provenance": []
    },
    "kernelspec": {
      "name": "python3",
      "display_name": "Python 3"
    },
    "language_info": {
      "name": "python"
    }
  },
  "cells": [
    {
      "cell_type": "code",
      "execution_count": 10,
      "metadata": {
        "id": "3-hw3tOJipbb"
      },
      "outputs": [],
      "source": [
        "from sklearn.datasets import fetch_openml\n",
        "from sklearn.model_selection import train_test_split\n",
        "from sklearn.decomposition import PCA\n",
        "from sklearn.tree import DecisionTreeClassifier\n",
        "from sklearn.ensemble import RandomForestClassifier\n",
        "from sklearn.svm import SVC\n",
        "from sklearn.metrics import accuracy_score\n",
        "import matplotlib.pyplot as plt"
      ]
    },
    {
      "cell_type": "code",
      "source": [
        "#  Load Fashion MNIST Dataset\n",
        "fashion_mnist = fetch_openml('Fashion-MNIST')\n",
        "\n",
        "X, y = fashion_mnist.data, fashion_mnist.target\n"
      ],
      "metadata": {
        "id": "2YWyzKDxi2Mu",
        "colab": {
          "base_uri": "https://localhost:8080/"
        },
        "outputId": "0c4a94a6-ae88-408f-aa5a-bfa6c5f4072e"
      },
      "execution_count": 11,
      "outputs": [
        {
          "output_type": "stream",
          "name": "stderr",
          "text": [
            "/usr/local/lib/python3.10/dist-packages/sklearn/datasets/_openml.py:1022: FutureWarning: The default value of `parser` will change from `'liac-arff'` to `'auto'` in 1.4. You can set `parser='auto'` to silence this warning. Therefore, an `ImportError` will be raised from 1.4 if the dataset is dense and pandas is not installed. Note that the pandas parser may return different data types. See the Notes Section in fetch_openml's API doc for details.\n",
            "  warn(\n"
          ]
        }
      ]
    },
    {
      "cell_type": "code",
      "source": [
        "# Convert target to numeric\n",
        "y = y.astype(int)"
      ],
      "metadata": {
        "id": "z2tzGzTWjBFb"
      },
      "execution_count": 12,
      "outputs": []
    },
    {
      "cell_type": "code",
      "source": [
        "# Split the Data\n",
        "X_train, X_test, y_train, y_test = train_test_split(X, y, test_size=0.2, random_state=42)"
      ],
      "metadata": {
        "id": "7DeJ9iHejHKR"
      },
      "execution_count": 17,
      "outputs": []
    },
    {
      "cell_type": "code",
      "source": [
        "# Step 3: Perform PCA for Dimensionality Reduction\n",
        "pca = PCA(n_components=50)  # Reduce to 50 components\n",
        "X_train_pca = pca.fit_transform(X_train)\n",
        "X_test_pca = pca.transform(X_test)"
      ],
      "metadata": {
        "id": "ahFkj1Oitfrs"
      },
      "execution_count": 18,
      "outputs": []
    },
    {
      "cell_type": "code",
      "source": [
        "\n",
        "\n",
        "# train and evaluate models\n",
        "def evaluate_model(model, X_train, X_test, y_train, y_test):\n",
        "    model.fit(X_train, y_train)\n",
        "    y_pred = model.predict(X_test)\n",
        "    return accuracy_score(y_test, y_pred)\n"
      ],
      "metadata": {
        "id": "qXDFNZmYjmh6"
      },
      "execution_count": 19,
      "outputs": []
    },
    {
      "cell_type": "code",
      "source": [
        "\n",
        "# Train Models Without PCA\n",
        "dt_model = DecisionTreeClassifier(random_state=42)\n",
        "rf_model = RandomForestClassifier(random_state=42)\n",
        "svm_model = SVC()\n",
        "\n",
        "dt_acc_no_pca = evaluate_model(dt_model, X_train, X_test, y_train, y_test)\n",
        "rf_acc_no_pca = evaluate_model(rf_model, X_train, X_test, y_train, y_test)\n",
        "svm_acc_no_pca = evaluate_model(svm_model, X_train, X_test, y_train, y_test)\n"
      ],
      "metadata": {
        "id": "cg1GzzQEjmkv"
      },
      "execution_count": 20,
      "outputs": []
    },
    {
      "cell_type": "code",
      "source": [
        "#Train Models With PCA\n",
        "\n",
        "dt_model_pca = DecisionTreeClassifier(random_state=42)\n",
        "rf_model_pca = RandomForestClassifier(random_state=42)\n",
        "svm_model_pca = SVC()\n",
        "\n",
        "dt_acc_pca = evaluate_model(dt_model_pca, X_train_pca, X_test_pca, y_train, y_test)\n",
        "rf_acc_pca = evaluate_model(rf_model_pca, X_train_pca, X_test_pca, y_train, y_test)\n",
        "svm_acc_pca = evaluate_model(svm_model_pca, X_train_pca, X_test_pca, y_train, y_test)\n"
      ],
      "metadata": {
        "id": "yv1YND3oxJ0s"
      },
      "execution_count": 21,
      "outputs": []
    },
    {
      "cell_type": "code",
      "source": [
        "# Compare the Results\n",
        "print(\"Decision Tree Accuracy without PCA:\", dt_acc_no_pca)\n",
        "print(\"Decision Tree Accuracy with PCA:\", dt_acc_pca)\n",
        "\n",
        "print(\"Random Forest Accuracy without PCA:\", rf_acc_no_pca)\n",
        "print(\"Random Forest Accuracy with PCA:\", rf_acc_pca)\n",
        "\n",
        "print(\"SVM Accuracy without PCA:\", svm_acc_no_pca)\n",
        "print(\"SVM Accuracy with PCA:\", svm_acc_pca)"
      ],
      "metadata": {
        "id": "FBK2J7fbjmqI",
        "colab": {
          "base_uri": "https://localhost:8080/"
        },
        "outputId": "e67d03f0-0092-4339-9871-8899bd69392f"
      },
      "execution_count": 22,
      "outputs": [
        {
          "output_type": "stream",
          "name": "stdout",
          "text": [
            "Decision Tree Accuracy without PCA: 0.7941428571428572\n",
            "Decision Tree Accuracy with PCA: 0.7724285714285715\n",
            "Random Forest Accuracy without PCA: 0.8824285714285715\n",
            "Random Forest Accuracy with PCA: 0.8665714285714285\n",
            "SVM Accuracy without PCA: 0.8887857142857143\n",
            "SVM Accuracy with PCA: 0.8813571428571428\n"
          ]
        }
      ]
    },
    {
      "cell_type": "code",
      "source": [
        "# Plotting the comparison\n",
        "models = ['Decision Tree', 'Random Forest', 'SVM']\n",
        "accuracy_no_pca = [dt_acc_no_pca, rf_acc_no_pca, svm_acc_no_pca]\n",
        "accuracy_pca = [dt_acc_pca, rf_acc_pca, svm_acc_pca]\n",
        "\n",
        "plt.figure(figsize=(10, 5))\n",
        "plt.bar(models, accuracy_no_pca, color='blue', alpha=0.6, label='Without PCA')\n",
        "plt.bar(models, accuracy_pca, color='green', alpha=0.6, label='With PCA')\n",
        "plt.xlabel('Models')\n",
        "plt.ylabel('Accuracy')\n",
        "plt.title('Comparison of Model Accuracy with and without PCA')\n",
        "plt.legend()\n",
        "plt.show()"
      ],
      "metadata": {
        "id": "Z9rvImSDjms2",
        "colab": {
          "base_uri": "https://localhost:8080/",
          "height": 487
        },
        "outputId": "1c4d7bb2-7100-4f94-8cb4-a299df7b7d2c"
      },
      "execution_count": 23,
      "outputs": [
        {
          "output_type": "display_data",
          "data": {
            "text/plain": [
              "<Figure size 1000x500 with 1 Axes>"
            ],
            "image/png": "[encoded data removed]"
          },
          "metadata": {}
        }
      ]
    },
    {
      "cell_type": "code",
      "source": [],
      "metadata": {
        "id": "DvmFnigLjmwV"
      },
      "execution_count": null,
      "outputs": []
    }
  ]
}